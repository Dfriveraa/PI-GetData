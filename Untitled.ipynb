{
 "cells": [
  {
   "cell_type": "code",
   "execution_count": 1,
   "metadata": {},
   "outputs": [],
   "source": [
    "import numpy as np\n",
    "import pandas as pd\n",
    "import tensorflow as tf"
   ]
  },
  {
   "cell_type": "code",
   "execution_count": 2,
   "metadata": {},
   "outputs": [
    {
     "name": "stdout",
     "output_type": "stream",
     "text": [
      "(60, 300, 6)\n"
     ]
    }
   ],
   "source": [
    "df1=pd.read_csv('test.csv')\n",
    "\n",
    "cambios=df1[df1['Tiempo']=='Order'].index.tolist()\n",
    "\n",
    "contador = 0\n",
    "x= []\n",
    "y=[]\n",
    "for i in cambios:\n",
    "    gesto1=df1[(df1.index>=i-300)&(df1.index<i)].astype(int)\n",
    "    gesto1 = gesto1.to_numpy()\n",
    "\n",
    "    m=np.fft.rfft(gesto1[:,2:8],axis=0)\n",
    "    f=30\n",
    "    ones=np.ones(f)\n",
    "    zeros=np.zeros(m.shape[0]-f)\n",
    "    c=np.concatenate((ones,zeros))\n",
    "    clean=m*c.reshape(m.shape[0],1)\n",
    "    m=np.fft.irfft(clean,axis=0)\n",
    "    x.append(m)\n",
    "\n",
    "#   x.append(gesto1[:,2:8])\n",
    "\n",
    "y=[1,1,1,1,1,3,3,3,3,3,2,2,2,2,2,0,0,0,0,0,1,1,1,1,1,3,3,3,3,3,2,2,2,2,2,0,0,0,0,0,1,1,1,1,1,3,3,3,3,3,2,2,2,2,2,0,0,0,0,0]\n",
    "x = np.array(x)\n",
    "y = np.array(y)\n",
    "x = (x+32762)/65536\n",
    "print(x.shape)"
   ]
  },
  {
   "cell_type": "code",
   "execution_count": 3,
   "metadata": {},
   "outputs": [],
   "source": [
    "model =  tf.keras.models.load_model('./modelo.h5')\n",
    "test_preds = model.predict(x).argmax(axis=1)"
   ]
  },
  {
   "cell_type": "code",
   "execution_count": 4,
   "metadata": {},
   "outputs": [
    {
     "name": "stdout",
     "output_type": "stream",
     "text": [
      "[1 1 1 1 1 3 3 3 3 3 2 2 2 2 2 0 0 0 0 0 1 1 1 1 1 3 3 3 3 3 2 2 2 2 2 0 0\n",
      " 0 0 0 1 1 1 1 1 3 3 3 3 3 2 1 2 2 2 0 0 0 0 1]\n"
     ]
    }
   ],
   "source": [
    "print(test_preds)"
   ]
  },
  {
   "cell_type": "code",
   "execution_count": 5,
   "metadata": {},
   "outputs": [
    {
     "name": "stdout",
     "output_type": "stream",
     "text": [
      "[ 0  0  0  0  0  0  0  0  0  0  0  0  0  0  0  0  0  0  0  0  0  0  0  0\n",
      "  0  0  0  0  0  0  0  0  0  0  0  0  0  0  0  0  0  0  0  0  0  0  0  0\n",
      "  0  0  0 -1  0  0  0  0  0  0  0  1]\n"
     ]
    }
   ],
   "source": [
    "print(test_preds-y)"
   ]
  },
  {
   "cell_type": "code",
   "execution_count": null,
   "metadata": {},
   "outputs": [],
   "source": []
  }
 ],
 "metadata": {
  "kernelspec": {
   "display_name": "Python 3",
   "language": "python",
   "name": "python3"
  },
  "language_info": {
   "codemirror_mode": {
    "name": "ipython",
    "version": 3
   },
   "file_extension": ".py",
   "mimetype": "text/x-python",
   "name": "python",
   "nbconvert_exporter": "python",
   "pygments_lexer": "ipython3",
   "version": "3.8.3"
  }
 },
 "nbformat": 4,
 "nbformat_minor": 4
}
