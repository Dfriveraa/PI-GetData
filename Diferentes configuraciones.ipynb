{
 "cells": [
  {
   "cell_type": "code",
   "execution_count": 1,
   "metadata": {},
   "outputs": [],
   "source": [
    "import numpy as np\n",
    "import matplotlib.pyplot as plt\n",
    "import pandas as pd\n",
    "import random\n",
    "import tensorflow as tf\n",
    "from scikitplot.metrics import plot_confusion_matrix#Esta librería toca instalarla \"conda install -c conda-forge scikit-plot\"\n",
    "from sklearn.model_selection import train_test_split\n",
    "from scipy import stats"
   ]
  },
  {
   "cell_type": "code",
   "execution_count": 2,
   "metadata": {},
   "outputs": [
    {
     "name": "stdout",
     "output_type": "stream",
     "text": [
      "(60, 300, 6)\n"
     ]
    }
   ],
   "source": [
    "df1=pd.read_csv('Muestras/PruebaAgena.csv')\n",
    "\n",
    "cambios=df1[df1['Tiempo']=='Order'].index.tolist()\n",
    "\n",
    "contador = 0\n",
    "x= []\n",
    "y=[]\n",
    "for i in cambios:\n",
    "    gesto1=df1[(df1.index>=i-300)&(df1.index<i)].astype(int)\n",
    "    gesto1 = gesto1.to_numpy()\n",
    "\n",
    "#     m=np.fft.rfft(gesto1[:,2:8],axis=0)\n",
    "#     f=30\n",
    "#     ones=np.ones(f)\n",
    "#     zeros=np.zeros(m.shape[0]-f)\n",
    "#     c=np.concatenate((ones,zeros))\n",
    "#     clean=m*c.reshape(m.shape[0],1)\n",
    "#     m=np.fft.irfft(clean,axis=0)\n",
    "#     x.append(m)\n",
    "\n",
    "    x.append(gesto1[:,2:8])\n",
    "\n",
    "y=[1,1,1,1,1,3,3,3,3,3,2,2,2,2,2,0,0,0,0,0,1,1,1,1,1,3,3,3,3,3,2,2,2,2,2,0,0,0,0,0,1,1,1,1,1,3,3,3,3,3,2,2,2,2,2,0,0,0,0,0]\n",
    "yd = [1,1,1,1,1,3,3,3,3,3,2,2,2,2,2,0,0,0,0,0]\n",
    "x = np.array(x)\n",
    "y = np.array(y)\n",
    "x = (x+32762)/65536\n",
    "print(x.shape)"
   ]
  },
  {
   "cell_type": "code",
   "execution_count": null,
   "metadata": {},
   "outputs": [],
   "source": [
    "#se convierte el archivo csv de las muestras para crear el conjunto de muestras de test\n",
    "#y es el orden de las muestras en el archivo csv"
   ]
  },
  {
   "cell_type": "code",
   "execution_count": 23,
   "metadata": {},
   "outputs": [],
   "source": [
    "allModels = []\n",
    "bestModels = []\n",
    "contador = 0\n",
    "modelosG = [1,4,8,11,12,13,14,15,16,17,18,19,20,21,22,23]\n",
    "modelosE = [11,12,13,15,19,21]\n",
    "for i in [10,100]:\n",
    "    for j in [10,50,100]:\n",
    "        for k in [5,10,20,30]:\n",
    "            if contador in modelosE:\n",
    "                modelo = tf.keras.models.load_model('./modelos/modelo_bs'+str(i)+'_sf'+str(j)+'_nf'+str(k)+'.h5')\n",
    "                bestModels.append(modelo)\n",
    "            if contador in modelosG:\n",
    "                modelo = tf.keras.models.load_model('./modelos/modelo_bs'+str(i)+'_sf'+str(j)+'_nf'+str(k)+'.h5')\n",
    "                allModels.append(modelo)\n",
    "            \n",
    "            contador+=1"
   ]
  },
  {
   "cell_type": "code",
   "execution_count": null,
   "metadata": {},
   "outputs": [],
   "source": [
    "# se cargan los modelos cullas curvas de aprendisaje se vieran buenas (modelosG) estos modelos mostraron indecicionn en\n",
    "# una muestra especifica, se decidio solo tomar los modelos que no respondieron bien a esa muestra y se crea el grupo modelosE"
   ]
  },
  {
   "cell_type": "code",
   "execution_count": 25,
   "metadata": {},
   "outputs": [],
   "source": [
    "allPredicts = []\n",
    "bestPredicts = []\n",
    "for i in bestModels:\n",
    "    preds = i.predict(x).argmax(axis=1)\n",
    "    bestPredicts.append(preds)\n",
    "for i in allModels:\n",
    "    preds = i.predict(x).argmax(axis=1)\n",
    "    allPredicts.append(preds)   \n",
    "    \n",
    "allPredicts = np.array(allPredicts)\n",
    "bestPredicts = np.array(bestPredicts)\n",
    "\n",
    "finalPreds = stats.mode(bestPredicts,axis=0)"
   ]
  },
  {
   "cell_type": "code",
   "execution_count": 26,
   "metadata": {},
   "outputs": [
    {
     "data": {
      "text/plain": [
       "array([0, 0, 0, 3, 3, 3, 1, 3, 2, 0, 0, 3, 1, 3, 0, 1], dtype=int64)"
      ]
     },
     "execution_count": 26,
     "metadata": {},
     "output_type": "execute_result"
    }
   ],
   "source": [
    "allPredicts[:,28]"
   ]
  },
  {
   "cell_type": "code",
   "execution_count": null,
   "metadata": {},
   "outputs": [],
   "source": [
    "#aqui se puede ver que todos los modelos tienen respuestas muy diferentes ante la misma muestra que es un 3(X)\n",
    "#de aqui se toman los modelos que efectivamente dieron 3 como resultado ([11,12,13,15,19,21])"
   ]
  },
  {
   "cell_type": "code",
   "execution_count": 27,
   "metadata": {},
   "outputs": [
    {
     "data": {
      "text/plain": [
       "array([3, 3, 3, 3, 3, 3], dtype=int64)"
      ]
     },
     "execution_count": 27,
     "metadata": {},
     "output_type": "execute_result"
    }
   ],
   "source": [
    "bestPredicts[:,28]"
   ]
  },
  {
   "cell_type": "code",
   "execution_count": 28,
   "metadata": {},
   "outputs": [
    {
     "name": "stdout",
     "output_type": "stream",
     "text": [
      "[1 1 1 1 1 3 3 3 3 3 2 2 2 2 2 0 0 0 0 1]\n",
      "[6 6 6 6 6 6 6 6 6 6 6 4 5 6 6 5 5 5 4 5]\n"
     ]
    }
   ],
   "source": [
    "print(finalPreds[0][0][40:60])\n",
    "print(finalPreds[1][0][40:60])"
   ]
  },
  {
   "cell_type": "code",
   "execution_count": null,
   "metadata": {},
   "outputs": [],
   "source": [
    "#al final se toma la moda de las predicciones de todos los modelos para el veredicto final"
   ]
  },
  {
   "cell_type": "code",
   "execution_count": 29,
   "metadata": {},
   "outputs": [
    {
     "data": {
      "text/plain": [
       "<matplotlib.axes._subplots.AxesSubplot at 0x159fd2540a0>"
      ]
     },
     "execution_count": 29,
     "metadata": {},
     "output_type": "execute_result"
    },
    {
     "data": {
      "image/png": "[encoded data removed]",
      "text/plain": [
       "<Figure size 432x288 with 2 Axes>"
      ]
     },
     "metadata": {
      "needs_background": "light"
     },
     "output_type": "display_data"
    }
   ],
   "source": [
    "plot_confusion_matrix(y, finalPreds[0][0], normalize=False)"
   ]
  },
  {
   "cell_type": "code",
   "execution_count": null,
   "metadata": {},
   "outputs": [],
   "source": [
    "#otra forma de determinar la prediccion final es con el promedio de las respuestas de cada modelo, ya que las respuestas\n",
    "#de los modelos son probabilidades "
   ]
  },
  {
   "cell_type": "code",
   "execution_count": 60,
   "metadata": {},
   "outputs": [
    {
     "data": {
      "text/plain": [
       "(6, 60, 4)"
      ]
     },
     "execution_count": 60,
     "metadata": {},
     "output_type": "execute_result"
    }
   ],
   "source": [
    "prediccionesCompletas = []\n",
    "for i in bestModels:\n",
    "    preds = i.predict(x)\n",
    "    prediccionesCompletas.append(preds)\n",
    "prediccionesCompletas = np.array(prediccionesCompletas)\n",
    "prediccionesCompletas.shape"
   ]
  },
  {
   "cell_type": "code",
   "execution_count": null,
   "metadata": {},
   "outputs": [],
   "source": [
    "#se toman las predicciones completas sin tomar el valor maximo, por eso el shape es de 6 predicciones por 60 muestras\n",
    "#por 4 prtedicciones por modelo"
   ]
  },
  {
   "cell_type": "code",
   "execution_count": 61,
   "metadata": {
    "scrolled": false
   },
   "outputs": [],
   "source": [
    "prediccionesPromedio = (np.sum(prediccionesCompletas,axis=0)/6)\n",
    "prediccionFinal =prediccionesPromedio.argmax(axis=1)"
   ]
  },
  {
   "cell_type": "code",
   "execution_count": null,
   "metadata": {},
   "outputs": [],
   "source": [
    "#sacamos el promedio de cada prediccion y luego sacamos el mayor"
   ]
  },
  {
   "cell_type": "code",
   "execution_count": 62,
   "metadata": {},
   "outputs": [
    {
     "data": {
      "text/plain": [
       "<matplotlib.axes._subplots.AxesSubplot at 0x159815a1e20>"
      ]
     },
     "execution_count": 62,
     "metadata": {},
     "output_type": "execute_result"
    },
    {
     "data": {
      "image/png": "[encoded data removed]",
      "text/plain": [
       "<Figure size 432x288 with 2 Axes>"
      ]
     },
     "metadata": {
      "needs_background": "light"
     },
     "output_type": "display_data"
    }
   ],
   "source": [
    "plot_confusion_matrix(y, prediccionFinal, normalize=False)"
   ]
  },
  {
   "cell_type": "code",
   "execution_count": null,
   "metadata": {},
   "outputs": [],
   "source": [
    "#al final obtenemos el mismo resultado"
   ]
  }
 ],
 "metadata": {
  "kernelspec": {
   "display_name": "Python 3",
   "language": "python",
   "name": "python3"
  },
  "language_info": {
   "codemirror_mode": {
    "name": "ipython",
    "version": 3
   },
   "file_extension": ".py",
   "mimetype": "text/x-python",
   "name": "python",
   "nbconvert_exporter": "python",
   "pygments_lexer": "ipython3",
   "version": "3.8.3"
  }
 },
 "nbformat": 4,
 "nbformat_minor": 4
}
